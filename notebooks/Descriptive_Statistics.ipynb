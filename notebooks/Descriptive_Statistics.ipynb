{
 "cells": [
  {
   "cell_type": "markdown",
   "id": "7cbd2994",
   "metadata": {},
   "source": [
    "# Measures_of_Central_Tendency"
   ]
  },
  {
   "cell_type": "code",
   "execution_count": 8,
   "id": "08a6b8ff",
   "metadata": {},
   "outputs": [],
   "source": [
    "import pandas as pd\n",
    "df = pd.read_csv(\"/Users/rahulsanjeevyeldi/Projects/data-science-statistics-journey/dataset/Titanic-Dataset.csv\")"
   ]
  },
  {
   "cell_type": "code",
   "execution_count": 9,
   "id": "8d5a1a3f",
   "metadata": {},
   "outputs": [
    {
     "data": {
      "text/html": [
       "<div>\n",
       "<style scoped>\n",
       "    .dataframe tbody tr th:only-of-type {\n",
       "        vertical-align: middle;\n",
       "    }\n",
       "\n",
       "    .dataframe tbody tr th {\n",
       "        vertical-align: top;\n",
       "    }\n",
       "\n",
       "    .dataframe thead th {\n",
       "        text-align: right;\n",
       "    }\n",
       "</style>\n",
       "<table border=\"1\" class=\"dataframe\">\n",
       "  <thead>\n",
       "    <tr style=\"text-align: right;\">\n",
       "      <th></th>\n",
       "      <th>PassengerId</th>\n",
       "      <th>Survived</th>\n",
       "      <th>Pclass</th>\n",
       "      <th>Name</th>\n",
       "      <th>Sex</th>\n",
       "      <th>Age</th>\n",
       "      <th>SibSp</th>\n",
       "      <th>Parch</th>\n",
       "      <th>Ticket</th>\n",
       "      <th>Fare</th>\n",
       "      <th>Cabin</th>\n",
       "      <th>Embarked</th>\n",
       "    </tr>\n",
       "  </thead>\n",
       "  <tbody>\n",
       "    <tr>\n",
       "      <th>0</th>\n",
       "      <td>1</td>\n",
       "      <td>0</td>\n",
       "      <td>3</td>\n",
       "      <td>Braund, Mr. Owen Harris</td>\n",
       "      <td>male</td>\n",
       "      <td>22.0</td>\n",
       "      <td>1</td>\n",
       "      <td>0</td>\n",
       "      <td>A/5 21171</td>\n",
       "      <td>7.2500</td>\n",
       "      <td>NaN</td>\n",
       "      <td>S</td>\n",
       "    </tr>\n",
       "    <tr>\n",
       "      <th>1</th>\n",
       "      <td>2</td>\n",
       "      <td>1</td>\n",
       "      <td>1</td>\n",
       "      <td>Cumings, Mrs. John Bradley (Florence Briggs Th...</td>\n",
       "      <td>female</td>\n",
       "      <td>38.0</td>\n",
       "      <td>1</td>\n",
       "      <td>0</td>\n",
       "      <td>PC 17599</td>\n",
       "      <td>71.2833</td>\n",
       "      <td>C85</td>\n",
       "      <td>C</td>\n",
       "    </tr>\n",
       "    <tr>\n",
       "      <th>2</th>\n",
       "      <td>3</td>\n",
       "      <td>1</td>\n",
       "      <td>3</td>\n",
       "      <td>Heikkinen, Miss. Laina</td>\n",
       "      <td>female</td>\n",
       "      <td>26.0</td>\n",
       "      <td>0</td>\n",
       "      <td>0</td>\n",
       "      <td>STON/O2. 3101282</td>\n",
       "      <td>7.9250</td>\n",
       "      <td>NaN</td>\n",
       "      <td>S</td>\n",
       "    </tr>\n",
       "    <tr>\n",
       "      <th>3</th>\n",
       "      <td>4</td>\n",
       "      <td>1</td>\n",
       "      <td>1</td>\n",
       "      <td>Futrelle, Mrs. Jacques Heath (Lily May Peel)</td>\n",
       "      <td>female</td>\n",
       "      <td>35.0</td>\n",
       "      <td>1</td>\n",
       "      <td>0</td>\n",
       "      <td>113803</td>\n",
       "      <td>53.1000</td>\n",
       "      <td>C123</td>\n",
       "      <td>S</td>\n",
       "    </tr>\n",
       "    <tr>\n",
       "      <th>4</th>\n",
       "      <td>5</td>\n",
       "      <td>0</td>\n",
       "      <td>3</td>\n",
       "      <td>Allen, Mr. William Henry</td>\n",
       "      <td>male</td>\n",
       "      <td>35.0</td>\n",
       "      <td>0</td>\n",
       "      <td>0</td>\n",
       "      <td>373450</td>\n",
       "      <td>8.0500</td>\n",
       "      <td>NaN</td>\n",
       "      <td>S</td>\n",
       "    </tr>\n",
       "    <tr>\n",
       "      <th>...</th>\n",
       "      <td>...</td>\n",
       "      <td>...</td>\n",
       "      <td>...</td>\n",
       "      <td>...</td>\n",
       "      <td>...</td>\n",
       "      <td>...</td>\n",
       "      <td>...</td>\n",
       "      <td>...</td>\n",
       "      <td>...</td>\n",
       "      <td>...</td>\n",
       "      <td>...</td>\n",
       "      <td>...</td>\n",
       "    </tr>\n",
       "    <tr>\n",
       "      <th>886</th>\n",
       "      <td>887</td>\n",
       "      <td>0</td>\n",
       "      <td>2</td>\n",
       "      <td>Montvila, Rev. Juozas</td>\n",
       "      <td>male</td>\n",
       "      <td>27.0</td>\n",
       "      <td>0</td>\n",
       "      <td>0</td>\n",
       "      <td>211536</td>\n",
       "      <td>13.0000</td>\n",
       "      <td>NaN</td>\n",
       "      <td>S</td>\n",
       "    </tr>\n",
       "    <tr>\n",
       "      <th>887</th>\n",
       "      <td>888</td>\n",
       "      <td>1</td>\n",
       "      <td>1</td>\n",
       "      <td>Graham, Miss. Margaret Edith</td>\n",
       "      <td>female</td>\n",
       "      <td>19.0</td>\n",
       "      <td>0</td>\n",
       "      <td>0</td>\n",
       "      <td>112053</td>\n",
       "      <td>30.0000</td>\n",
       "      <td>B42</td>\n",
       "      <td>S</td>\n",
       "    </tr>\n",
       "    <tr>\n",
       "      <th>888</th>\n",
       "      <td>889</td>\n",
       "      <td>0</td>\n",
       "      <td>3</td>\n",
       "      <td>Johnston, Miss. Catherine Helen \"Carrie\"</td>\n",
       "      <td>female</td>\n",
       "      <td>NaN</td>\n",
       "      <td>1</td>\n",
       "      <td>2</td>\n",
       "      <td>W./C. 6607</td>\n",
       "      <td>23.4500</td>\n",
       "      <td>NaN</td>\n",
       "      <td>S</td>\n",
       "    </tr>\n",
       "    <tr>\n",
       "      <th>889</th>\n",
       "      <td>890</td>\n",
       "      <td>1</td>\n",
       "      <td>1</td>\n",
       "      <td>Behr, Mr. Karl Howell</td>\n",
       "      <td>male</td>\n",
       "      <td>26.0</td>\n",
       "      <td>0</td>\n",
       "      <td>0</td>\n",
       "      <td>111369</td>\n",
       "      <td>30.0000</td>\n",
       "      <td>C148</td>\n",
       "      <td>C</td>\n",
       "    </tr>\n",
       "    <tr>\n",
       "      <th>890</th>\n",
       "      <td>891</td>\n",
       "      <td>0</td>\n",
       "      <td>3</td>\n",
       "      <td>Dooley, Mr. Patrick</td>\n",
       "      <td>male</td>\n",
       "      <td>32.0</td>\n",
       "      <td>0</td>\n",
       "      <td>0</td>\n",
       "      <td>370376</td>\n",
       "      <td>7.7500</td>\n",
       "      <td>NaN</td>\n",
       "      <td>Q</td>\n",
       "    </tr>\n",
       "  </tbody>\n",
       "</table>\n",
       "<p>891 rows × 12 columns</p>\n",
       "</div>"
      ],
      "text/plain": [
       "     PassengerId  Survived  Pclass  \\\n",
       "0              1         0       3   \n",
       "1              2         1       1   \n",
       "2              3         1       3   \n",
       "3              4         1       1   \n",
       "4              5         0       3   \n",
       "..           ...       ...     ...   \n",
       "886          887         0       2   \n",
       "887          888         1       1   \n",
       "888          889         0       3   \n",
       "889          890         1       1   \n",
       "890          891         0       3   \n",
       "\n",
       "                                                  Name     Sex   Age  SibSp  \\\n",
       "0                              Braund, Mr. Owen Harris    male  22.0      1   \n",
       "1    Cumings, Mrs. John Bradley (Florence Briggs Th...  female  38.0      1   \n",
       "2                               Heikkinen, Miss. Laina  female  26.0      0   \n",
       "3         Futrelle, Mrs. Jacques Heath (Lily May Peel)  female  35.0      1   \n",
       "4                             Allen, Mr. William Henry    male  35.0      0   \n",
       "..                                                 ...     ...   ...    ...   \n",
       "886                              Montvila, Rev. Juozas    male  27.0      0   \n",
       "887                       Graham, Miss. Margaret Edith  female  19.0      0   \n",
       "888           Johnston, Miss. Catherine Helen \"Carrie\"  female   NaN      1   \n",
       "889                              Behr, Mr. Karl Howell    male  26.0      0   \n",
       "890                                Dooley, Mr. Patrick    male  32.0      0   \n",
       "\n",
       "     Parch            Ticket     Fare Cabin Embarked  \n",
       "0        0         A/5 21171   7.2500   NaN        S  \n",
       "1        0          PC 17599  71.2833   C85        C  \n",
       "2        0  STON/O2. 3101282   7.9250   NaN        S  \n",
       "3        0            113803  53.1000  C123        S  \n",
       "4        0            373450   8.0500   NaN        S  \n",
       "..     ...               ...      ...   ...      ...  \n",
       "886      0            211536  13.0000   NaN        S  \n",
       "887      0            112053  30.0000   B42        S  \n",
       "888      2        W./C. 6607  23.4500   NaN        S  \n",
       "889      0            111369  30.0000  C148        C  \n",
       "890      0            370376   7.7500   NaN        Q  \n",
       "\n",
       "[891 rows x 12 columns]"
      ]
     },
     "execution_count": 9,
     "metadata": {},
     "output_type": "execute_result"
    }
   ],
   "source": [
    "df"
   ]
  },
  {
   "cell_type": "markdown",
   "id": "eb88f647",
   "metadata": {},
   "source": [
    "<b>Mean</b>"
   ]
  },
  {
   "cell_type": "code",
   "execution_count": 11,
   "id": "6bb0c56c",
   "metadata": {},
   "outputs": [
    {
     "data": {
      "text/plain": [
       "np.float64(29.69911764705882)"
      ]
     },
     "execution_count": 11,
     "metadata": {},
     "output_type": "execute_result"
    }
   ],
   "source": [
    "df['Age'].mean()"
   ]
  },
  {
   "cell_type": "markdown",
   "id": "0443ba1b",
   "metadata": {},
   "source": [
    "<b>Median</b>"
   ]
  },
  {
   "cell_type": "code",
   "execution_count": null,
   "id": "28318298",
   "metadata": {},
   "outputs": [],
   "source": [
    "df['Age'].median()"
   ]
  },
  {
   "cell_type": "markdown",
   "id": "150e8493",
   "metadata": {},
   "source": [
    "<b>Mode</b>"
   ]
  },
  {
   "cell_type": "markdown",
   "id": "c4b305ad",
   "metadata": {},
   "source": [
    "df['Pclass'].mode()"
   ]
  },
  {
   "cell_type": "code",
   "execution_count": null,
   "id": "1ec99c8b",
   "metadata": {},
   "outputs": [],
   "source": [
    "df['Sex'].mode()"
   ]
  },
  {
   "cell_type": "code",
   "execution_count": null,
   "id": "356d4620",
   "metadata": {},
   "outputs": [],
   "source": [
    "df.info()"
   ]
  },
  {
   "cell_type": "code",
   "execution_count": null,
   "id": "43e51b4f",
   "metadata": {},
   "outputs": [],
   "source": [
    "df.isnull().sum()"
   ]
  },
  {
   "cell_type": "markdown",
   "id": "fa9582fc",
   "metadata": {},
   "source": [
    "# Measures_of_Dispersion"
   ]
  },
  {
   "cell_type": "code",
   "execution_count": 1,
   "id": "8400b9ed",
   "metadata": {},
   "outputs": [],
   "source": [
    "import pandas as pd\n",
    "df = pd.read_csv(\"/Users/rahulsanjeevyeldi/Projects/data-science-statistics-journey/dataset/Titanic-Dataset.csv\")"
   ]
  },
  {
   "cell_type": "markdown",
   "id": "6640f70d",
   "metadata": {},
   "source": [
    "<b>RANGE</b>"
   ]
  },
  {
   "cell_type": "code",
   "execution_count": 2,
   "id": "6d76d9a3",
   "metadata": {},
   "outputs": [
    {
     "name": "stdout",
     "output_type": "stream",
     "text": [
      "80.0 0.42\n"
     ]
    }
   ],
   "source": [
    "\n",
    "age_max = df['Age'].max()\n",
    "age_min = df['Age'].min()\n",
    "print(age_max,age_min)"
   ]
  },
  {
   "cell_type": "code",
   "execution_count": 3,
   "id": "a9ea73e1",
   "metadata": {},
   "outputs": [
    {
     "name": "stdout",
     "output_type": "stream",
     "text": [
      "79.58\n"
     ]
    }
   ],
   "source": [
    "age_range = age_max-age_min\n",
    "print(age_range)"
   ]
  },
  {
   "cell_type": "markdown",
   "id": "f454a78f",
   "metadata": {},
   "source": [
    "<b>IQR</b>"
   ]
  },
  {
   "cell_type": "code",
   "execution_count": 5,
   "id": "916ef2bc",
   "metadata": {},
   "outputs": [
    {
     "name": "stdout",
     "output_type": "stream",
     "text": [
      "q1 20.125 q3 38.0\n",
      "17.875\n"
     ]
    }
   ],
   "source": [
    "q1 = df['Age'].quantile(0.25)\n",
    "q3 = df['Age'].quantile(0.75)\n",
    "print('q1',q1,'q3',q3)\n",
    "iqr = q3-q1\n",
    "print(iqr) #how spread out the middle 50% of the data is."
   ]
  },
  {
   "cell_type": "code",
   "execution_count": 6,
   "id": "577080f3",
   "metadata": {},
   "outputs": [
    {
     "data": {
      "text/plain": [
       "np.float64(28.0)"
      ]
     },
     "execution_count": 6,
     "metadata": {},
     "output_type": "execute_result"
    }
   ],
   "source": [
    "q2 = df['Age'].quantile(0.50)\n",
    "q2 #median value"
   ]
  },
  {
   "cell_type": "markdown",
   "id": "a902455b",
   "metadata": {},
   "source": [
    "<b>VARIANCE</b>"
   ]
  },
  {
   "cell_type": "code",
   "execution_count": 7,
   "id": "751840f3",
   "metadata": {},
   "outputs": [
    {
     "data": {
      "text/plain": [
       "np.float64(211.01912474630802)"
      ]
     },
     "execution_count": 7,
     "metadata": {},
     "output_type": "execute_result"
    }
   ],
   "source": [
    "df['Age'].var()\n",
    "#Variance= 14.52..**2=196 ≈ 211. It also measures spread, but in squared units,"
   ]
  },
  {
   "cell_type": "markdown",
   "id": "bf0bd629",
   "metadata": {},
   "source": [
    "<b>Standard Deviation</b>"
   ]
  },
  {
   "cell_type": "code",
   "execution_count": 8,
   "id": "fee18dde",
   "metadata": {},
   "outputs": [
    {
     "data": {
      "text/plain": [
       "np.float64(14.526497332334042)"
      ]
     },
     "execution_count": 8,
     "metadata": {},
     "output_type": "execute_result"
    }
   ],
   "source": [
    "df['Age'].std()\n",
    "#mean was 35 and std is 14 it indicates that most ages fall between 21 and 49 (that’s 35 ± 14)."
   ]
  },
  {
   "cell_type": "markdown",
   "id": "dc4f4202",
   "metadata": {},
   "source": [
    "<b>Identifying outliers</b>"
   ]
  },
  {
   "cell_type": "code",
   "execution_count": 9,
   "id": "d1a943d1",
   "metadata": {},
   "outputs": [
    {
     "data": {
      "text/plain": [
       "Series([], Name: Age, dtype: float64)"
      ]
     },
     "execution_count": 9,
     "metadata": {},
     "output_type": "execute_result"
    }
   ],
   "source": [
    "#Identifying outliers using IQR\n",
    "low_bound_age = df['Age']-1.5*iqr\n",
    "upper_bound_age = df['Age']+1.5*iqr\n",
    "outliers_age = df[(df['Age']<low_bound_age) | (df['Age']>upper_bound_age)]\n",
    "outliers_age['Age']"
   ]
  },
  {
   "cell_type": "code",
   "execution_count": 10,
   "id": "0bdad32a",
   "metadata": {},
   "outputs": [
    {
     "data": {
      "text/plain": [
       "1      71.2833\n",
       "4       8.0500\n",
       "11     26.5500\n",
       "15     16.0000\n",
       "16     29.1250\n",
       "        ...   \n",
       "860    14.1083\n",
       "865    13.0000\n",
       "872     5.0000\n",
       "873     9.0000\n",
       "879    83.1583\n",
       "Name: Fare, Length: 217, dtype: float64"
      ]
     },
     "execution_count": 10,
     "metadata": {},
     "output_type": "execute_result"
    }
   ],
   "source": [
    "#Identifying outliers using IQR\n",
    "low_bound_fare = df['Fare']-1.5*iqr\n",
    "upper_bound_fare = df['Fare']+1.5*iqr\n",
    "outliers_fare = df[(df['Fare']<low_bound_age) | (df['Fare']>upper_bound_age)]\n",
    "outliers_fare['Fare']"
   ]
  },
  {
   "cell_type": "markdown",
   "id": "6ee816b5",
   "metadata": {},
   "source": [
    "<b>Mean Absolute Deviation and Coefficient of Variation</b>"
   ]
  },
  {
   "cell_type": "code",
   "execution_count": 12,
   "id": "a4c1edeb",
   "metadata": {},
   "outputs": [
    {
     "name": "stdout",
     "output_type": "stream",
     "text": [
      "Mean Absolute Deviation (MAD):\n",
      " Age     11.322944\n",
      "Fare    30.281589\n",
      "dtype: float64\n",
      "\n",
      "Coefficient of Variation (CV):\n",
      " Age     0.489122\n",
      "Fare    1.525282\n",
      "dtype: float64\n"
     ]
    }
   ],
   "source": [
    "df_age_fare = df[['Age','Fare']]\n",
    "\n",
    "# Drop missing values\n",
    "titanic_clean = df_age_fare.dropna()\n",
    "\n",
    "\"\"\"\n",
    "Calculate MAD\n",
    "It means that on average, each passenger’s age is about 11.32 years different from the average age of all passengers.\n",
    "\"\"\"\n",
    "mad = (titanic_clean - titanic_clean.mean()).abs().mean()\n",
    "\n",
    "# Calculate CV\n",
    "cv = titanic_clean.std() / titanic_clean.mean()\n",
    "\n",
    "print(\"Mean Absolute Deviation (MAD):\\n\", mad)\n",
    "print(\"\\nCoefficient of Variation (CV):\\n\", cv)"
   ]
  },
  {
   "cell_type": "markdown",
   "id": "1c88cd18",
   "metadata": {},
   "source": [
    "# Measures_of_Shape "
   ]
  },
  {
   "cell_type": "code",
   "execution_count": 13,
   "id": "5de86990",
   "metadata": {},
   "outputs": [],
   "source": [
    "import pandas as pd\n",
    "import seaborn as sns\n",
    "import matplotlib.pyplot as plt\n",
    "from scipy.stats import skew"
   ]
  },
  {
   "cell_type": "markdown",
   "id": "43d597cd",
   "metadata": {},
   "source": [
    "## Skewness"
   ]
  },
  {
   "cell_type": "markdown",
   "id": "ff7f152a",
   "metadata": {},
   "source": [
    "### Manual data"
   ]
  },
  {
   "cell_type": "code",
   "execution_count": 14,
   "id": "c7751ddd",
   "metadata": {},
   "outputs": [
    {
     "name": "stdout",
     "output_type": "stream",
     "text": [
      "0    1.293343\n",
      "1   -0.585583\n",
      "2   -0.722109\n",
      "dtype: float64\n"
     ]
    },
    {
     "data": {
      "text/plain": [
       "'\\nGeneral rule of thumb\\nskewness ~ 0 symmetrical distribution\\nskewness > 0 right skewed\\nskewness < 0 left skewed\\n'"
      ]
     },
     "execution_count": 14,
     "metadata": {},
     "output_type": "execute_result"
    }
   ],
   "source": [
    "data = [[10, 18, 11], [13, 15, 8], [9, 20, 3]]\n",
    "df = pd.DataFrame(data)\n",
    "print(df.skew())\n",
    "\n",
    "\"\"\"\n",
    "General rule of thumb\n",
    "skewness ~ 0 symmetrical distribution\n",
    "skewness > 0 right skewed\n",
    "skewness < 0 left skewed\n",
    "\"\"\"\n"
   ]
  },
  {
   "cell_type": "markdown",
   "id": "3fa1497f",
   "metadata": {},
   "source": [
    "### Titanic"
   ]
  },
  {
   "cell_type": "code",
   "execution_count": 15,
   "id": "02b1516c",
   "metadata": {},
   "outputs": [
    {
     "name": "stdout",
     "output_type": "stream",
     "text": [
      "Skewness values for numerical features:\n",
      " Age     0.388290\n",
      "Fare    4.643848\n",
      "dtype: float64\n"
     ]
    },
    {
     "data": {
      "image/png": "[encoded data removed]",
      "text/plain": [
       "<Figure size 600x400 with 1 Axes>"
      ]
     },
     "metadata": {},
     "output_type": "display_data"
    },
    {
     "data": {
      "image/png": "[encoded data removed]",
      "text/plain": [
       "<Figure size 600x400 with 1 Axes>"
      ]
     },
     "metadata": {},
     "output_type": "display_data"
    }
   ],
   "source": [
    "# Load Titanic dataset from a local CSV file\n",
    "titanic = pd.read_csv('/Users/rahulsanjeevyeldi/Projects/data-science-statistics-journey/dataset/Titanic-Dataset.csv')  # Replace with your actual path if needed\n",
    "\n",
    "#Select your columns to calculate skewness and plot\n",
    "df = titanic[['Age','Fare']].dropna()\n",
    "\n",
    "# Calculate skewness for each column\n",
    "skewness_values = df.apply(skew)\n",
    "\n",
    "# Print skewness values\n",
    "print(\"Skewness values for numerical features:\\n\", skewness_values)\n",
    "\n",
    "# Visualize the distribution of numerical features\n",
    "for col in df.columns:\n",
    "    plt.figure(figsize=(6, 4))\n",
    "    sns.histplot(titanic[col].dropna(), kde=True)\n",
    "    plt.title(f'Distribution of {col} (Skewness: {skewness_values[col]:.2f})')\n",
    "    plt.xlabel(col)\n",
    "    plt.ylabel('Frequency')\n",
    "    plt.tight_layout()\n",
    "    plt.show()\n"
   ]
  },
  {
   "cell_type": "markdown",
   "id": "cedcffd7",
   "metadata": {},
   "source": [
    "## Kurtosis"
   ]
  },
  {
   "cell_type": "markdown",
   "id": "87398a0e",
   "metadata": {},
   "source": [
    "### Manual"
   ]
  },
  {
   "cell_type": "code",
   "execution_count": 16,
   "id": "d4186315",
   "metadata": {},
   "outputs": [
    {
     "name": "stdout",
     "output_type": "stream",
     "text": [
      "-0.29271198374234686\n"
     ]
    }
   ],
   "source": [
    "# Importing library\n",
    "from scipy.stats import kurtosis\n",
    "\n",
    "# Creating a dataset\n",
    "dataset = [88, 85, 82, 97, 67, 77, 74, 86,\n",
    "           81, 95, 77, 88, 85, 76, 81]\n",
    "\n",
    "# Calculate the kurtosis\n",
    "print(kurtosis(dataset, axis=0, bias=True))"
   ]
  },
  {
   "cell_type": "markdown",
   "id": "151d5f0a",
   "metadata": {},
   "source": [
    "### Titanic"
   ]
  },
  {
   "cell_type": "code",
   "execution_count": 17,
   "id": "fcb2466f",
   "metadata": {},
   "outputs": [
    {
     "name": "stdout",
     "output_type": "stream",
     "text": [
      "Excess Kurtosis values for numerical features:\n",
      " Age      0.168637\n",
      "Fare    30.699725\n",
      "dtype: float64\n"
     ]
    },
    {
     "data": {
      "image/png": "[encoded data removed]",
      "text/plain": [
       "<Figure size 600x400 with 1 Axes>"
      ]
     },
     "metadata": {},
     "output_type": "display_data"
    },
    {
     "data": {
      "image/png": "[encoded data removed]",
      "text/plain": [
       "<Figure size 600x400 with 1 Axes>"
      ]
     },
     "metadata": {},
     "output_type": "display_data"
    }
   ],
   "source": [
    "import pandas as pd\n",
    "import seaborn as sns\n",
    "import matplotlib.pyplot as plt\n",
    "from scipy.stats import kurtosis\n",
    "\n",
    "# Load Titanic dataset from a local CSV file\n",
    "titanic = pd.read_csv('/Users/rahulsanjeevyeldi/Projects/data-science-statistics-journey/dataset/Titanic-Dataset.csv')  # Make sure this file is in your working directory\n",
    "\n",
    "#Select your columns to calculate skewness and plot\n",
    "df = titanic[['Age','Fare']].dropna()\n",
    "\n",
    "# Calculate skewness for each column\n",
    "kurtosis_values = df.apply(kurtosis)\n",
    "\n",
    "# Print kurtosis values\n",
    "print(\"Excess Kurtosis values for numerical features:\\n\", kurtosis_values)\n",
    "\n",
    "# Visualize the distribution of numerical features with kurtosis\n",
    "for col in df:\n",
    "    plt.figure(figsize=(6, 4))\n",
    "    sns.histplot(titanic[col].dropna(), kde=True)\n",
    "    plt.title(f'Distribution of {col} (Excess Kurtosis: {kurtosis_values[col]:.2f})')\n",
    "    plt.xlabel(col)\n",
    "    plt.ylabel('Frequency')\n",
    "    plt.tight_layout()\n",
    "    plt.show()"
   ]
  }
 ],
 "metadata": {
  "kernelspec": {
   "display_name": "myenv",
   "language": "python",
   "name": "python3"
  },
  "language_info": {
   "codemirror_mode": {
    "name": "ipython",
    "version": 3
   },
   "file_extension": ".py",
   "mimetype": "text/x-python",
   "name": "python",
   "nbconvert_exporter": "python",
   "pygments_lexer": "ipython3",
   "version": "3.12.2"
  }
 },
 "nbformat": 4,
 "nbformat_minor": 5
}
