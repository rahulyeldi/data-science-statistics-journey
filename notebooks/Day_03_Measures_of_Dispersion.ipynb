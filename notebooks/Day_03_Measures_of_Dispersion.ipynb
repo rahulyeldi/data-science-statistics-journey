{
 "cells": [
  {
   "cell_type": "code",
   "execution_count": 22,
   "metadata": {},
   "outputs": [],
   "source": [
    "import pandas as pd\n",
    "df = pd.read_csv(\"C:/Users/YeldiR/Time_Series/data-science-statistics-journey/dataset/Titanic-Dataset.csv\")"
   ]
  },
  {
   "cell_type": "markdown",
   "metadata": {},
   "source": [
    "<b>RANGE</b>"
   ]
  },
  {
   "cell_type": "code",
   "execution_count": 24,
   "metadata": {},
   "outputs": [
    {
     "name": "stdout",
     "output_type": "stream",
     "text": [
      "80.0 0.42\n"
     ]
    }
   ],
   "source": [
    "\n",
    "age_max = df['Age'].max()\n",
    "age_min = df['Age'].min()\n",
    "print(age_max,age_min)"
   ]
  },
  {
   "cell_type": "code",
   "execution_count": 25,
   "metadata": {},
   "outputs": [
    {
     "name": "stdout",
     "output_type": "stream",
     "text": [
      "79.58\n"
     ]
    }
   ],
   "source": [
    "age_range = age_max-age_min\n",
    "print(age_range)"
   ]
  },
  {
   "cell_type": "markdown",
   "metadata": {},
   "source": [
    "<b>IQR</b>"
   ]
  },
  {
   "cell_type": "code",
   "execution_count": 26,
   "metadata": {},
   "outputs": [
    {
     "name": "stdout",
     "output_type": "stream",
     "text": [
      "q1 20.125 q3 38.0\n",
      "17.875\n"
     ]
    }
   ],
   "source": [
    "q1 = df['Age'].quantile(0.25)\n",
    "q3 = df['Age'].quantile(0.75)\n",
    "print('q1',q1,'q3',q3)\n",
    "iqr = q3-q1\n",
    "print(iqr) #how spread out the middle 50% of the data is."
   ]
  },
  {
   "cell_type": "code",
   "execution_count": 27,
   "metadata": {},
   "outputs": [
    {
     "data": {
      "text/plain": [
       "np.float64(28.0)"
      ]
     },
     "execution_count": 27,
     "metadata": {},
     "output_type": "execute_result"
    }
   ],
   "source": [
    "q2 = df['Age'].quantile(0.50)\n",
    "q2 #median value"
   ]
  },
  {
   "cell_type": "markdown",
   "metadata": {},
   "source": [
    "<b>VARIANCE</b>"
   ]
  },
  {
   "cell_type": "code",
   "execution_count": 28,
   "metadata": {},
   "outputs": [
    {
     "data": {
      "text/plain": [
       "np.float64(211.01912474630802)"
      ]
     },
     "execution_count": 28,
     "metadata": {},
     "output_type": "execute_result"
    }
   ],
   "source": [
    "df['Age'].var()\n",
    "#Variance= 14.52..**2=196 ≈ 211. It also measures spread, but in squared units,"
   ]
  },
  {
   "cell_type": "markdown",
   "metadata": {},
   "source": [
    "<b>Standard Deviation</b>"
   ]
  },
  {
   "cell_type": "code",
   "execution_count": 29,
   "metadata": {},
   "outputs": [
    {
     "data": {
      "text/plain": [
       "np.float64(14.526497332334042)"
      ]
     },
     "execution_count": 29,
     "metadata": {},
     "output_type": "execute_result"
    }
   ],
   "source": [
    "df['Age'].std()\n",
    "#mean was 35 and std is 14 it indicates that most ages fall between 21 and 49 (that’s 35 ± 14)."
   ]
  },
  {
   "cell_type": "markdown",
   "metadata": {},
   "source": [
    "<b>Identifying outliers</b>"
   ]
  },
  {
   "cell_type": "code",
   "execution_count": 30,
   "metadata": {},
   "outputs": [
    {
     "data": {
      "text/plain": [
       "Series([], Name: Age, dtype: float64)"
      ]
     },
     "execution_count": 30,
     "metadata": {},
     "output_type": "execute_result"
    }
   ],
   "source": [
    "#Identifying outliers using IQR\n",
    "low_bound_age = df['Age']-1.5*iqr\n",
    "upper_bound_age = df['Age']+1.5*iqr\n",
    "outliers_age = df[(df['Age']<low_bound_age) | (df['Age']>upper_bound_age)]\n",
    "outliers_age['Age']"
   ]
  },
  {
   "cell_type": "code",
   "execution_count": 31,
   "metadata": {},
   "outputs": [
    {
     "data": {
      "text/plain": [
       "1      71.2833\n",
       "4       8.0500\n",
       "11     26.5500\n",
       "15     16.0000\n",
       "16     29.1250\n",
       "        ...   \n",
       "860    14.1083\n",
       "865    13.0000\n",
       "872     5.0000\n",
       "873     9.0000\n",
       "879    83.1583\n",
       "Name: Fare, Length: 217, dtype: float64"
      ]
     },
     "execution_count": 31,
     "metadata": {},
     "output_type": "execute_result"
    }
   ],
   "source": [
    "#Identifying outliers using IQR\n",
    "low_bound_fare = df['Fare']-1.5*iqr\n",
    "upper_bound_fare = df['Fare']+1.5*iqr\n",
    "outliers_fare = df[(df['Fare']<low_bound_age) | (df['Fare']>upper_bound_age)]\n",
    "outliers_fare['Fare']"
   ]
  },
  {
   "cell_type": "markdown",
   "metadata": {},
   "source": [
    "<b>Mean Absolute Deviation and Coefficient of Variation</b>"
   ]
  },
  {
   "cell_type": "code",
   "execution_count": 37,
   "metadata": {},
   "outputs": [
    {
     "name": "stdout",
     "output_type": "stream",
     "text": [
      "Mean Absolute Deviation (MAD):\n",
      " Age     11.322944\n",
      "Fare    30.281589\n",
      "dtype: float64\n",
      "\n",
      "Coefficient of Variation (CV):\n",
      " Age     0.489122\n",
      "Fare    1.525282\n",
      "dtype: float64\n"
     ]
    }
   ],
   "source": [
    "df_age_fare = df[['Age','Fare']]\n",
    "\n",
    "# Drop missing values\n",
    "titanic_clean = df_age_fare.dropna()\n",
    "\n",
    "\"\"\"\n",
    "Calculate MAD\n",
    "It means that on average, each passenger’s age is about 11.32 years different from the average age of all passengers.\n",
    "\"\"\"\n",
    "mad = (titanic_clean - titanic_clean.mean()).abs().mean()\n",
    "\n",
    "# Calculate CV\n",
    "cv = titanic_clean.std() / titanic_clean.mean()\n",
    "\n",
    "print(\"Mean Absolute Deviation (MAD):\\n\", mad)\n",
    "print(\"\\nCoefficient of Variation (CV):\\n\", cv)"
   ]
  }
 ],
 "metadata": {
  "kernelspec": {
   "display_name": "myenv",
   "language": "python",
   "name": "python3"
  },
  "language_info": {
   "codemirror_mode": {
    "name": "ipython",
    "version": 3
   },
   "file_extension": ".py",
   "mimetype": "text/x-python",
   "name": "python",
   "nbconvert_exporter": "python",
   "pygments_lexer": "ipython3",
   "version": "3.12.2"
  }
 },
 "nbformat": 4,
 "nbformat_minor": 2
}
